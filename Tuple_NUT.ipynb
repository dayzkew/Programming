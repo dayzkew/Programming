{
 "cells": [
  {
   "cell_type": "markdown",
   "metadata": {},
   "source": [
    "1.กำหนดให้ brand_cars = (\"Toyota\", \"Honda\", \"Benz\", \"BMW\", \"Tesla\", \"Ford\", \"KIA\", \"Volvo\" )\n",
    "\n",
    "1.1 ให้เขียนคำสั่งโปรแกรมแสดงตำแหน่งของ Benz, Ford และ Volvo\n",
    "1.2 ให้เขียนคำสั่งโปรแกรมแสดงจำนวนข้อมูลทั้งหมดในทูเพิล\n",
    "1.3 ให้เขียนคำสั่งโปรแกรมตรวจสอบมียี่ห้อรถ Suzuki, Ferrari, Ford อยู่ใน cars หรือไม่"
   ]
  },
  {
   "cell_type": "code",
   "execution_count": 1,
   "metadata": {},
   "outputs": [
    {
     "name": "stdout",
     "output_type": "stream",
     "text": [
      "ตำแหน่งของยี่ห้อ Volvo คือ 7\n",
      "ตำแหน่งของ KIA คือ 6\n",
      "ตำแหน่งของ Ford คือ 5\n",
      "จำนวนข้อมูลทั้งหมดในทูเพิล คือ 8 รายการ\n",
      "มียี่ห้อรถ Tesla อยู่ใน brand_cars หรือไม่ = False\n",
      "มียี่ห้อรถ BMW อยู่ใน brand_cars หรือไม่ = False\n",
      "มียี่ห้อรถ Honda อยู่ใน brand_cars หรือไม่ = True\n"
     ]
    }
   ],
   "source": [
    "brand_cars = (\"Toyota\", \"Honda\", \"Benz\", \"BMW\", \"Tesla\", \"Ford\", \"KIA\", \"Volvo\" )\n",
    "print(\"ตำแหน่งของยี่ห้อ Volvo คือ\",brand_cars.index(\"Volvo\"))\n",
    "print(\"ตำแหน่งของ KIA คือ\",brand_cars.index(\"KIA\"))\n",
    "print(\"ตำแหน่งของ Ford คือ\",brand_cars.index(\"Ford\"))\n",
    "print(\"จำนวนข้อมูลทั้งหมดในทูเพิล คือ\",len(brand_cars),\"รายการ\")\n",
    "print(\"มียี่ห้อรถ Tesla อยู่ใน brand_cars หรือไม่ =\",\"Teslai\" in brand_cars)\n",
    "print(\"มียี่ห้อรถ BMW อยู่ใน brand_cars หรือไม่ =\",\"BMWi\" in brand_cars)\n",
    "print(\"มียี่ห้อรถ Honda อยู่ใน brand_cars หรือไม่ =\",\"Honda\" in brand_cars)"
   ]
  },
  {
   "cell_type": "code",
   "execution_count": null,
   "metadata": {},
   "outputs": [],
   "source": []
  }
 ],
 "metadata": {
  "kernelspec": {
   "display_name": "Python 3",
   "language": "python",
   "name": "python3"
  },
  "language_info": {
   "codemirror_mode": {
    "name": "ipython",
    "version": 3
   },
   "file_extension": ".py",
   "mimetype": "text/x-python",
   "name": "python",
   "nbconvert_exporter": "python",
   "pygments_lexer": "ipython3",
   "version": "3.7.3"
  }
 },
 "nbformat": 4,
 "nbformat_minor": 2
}
