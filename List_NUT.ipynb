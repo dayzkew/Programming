{
 "cells": [
  {
   "cell_type": "markdown",
   "metadata": {},
   "source": [
    "# 1.กำหนดให้ month = [\"Jan\",\"May\",\"Jul\",\"Aug\",\"Oct\",\"Dec\"]\n",
    "1.1ให้เขียนคำสั่งโปรแกรมเรียกใช้เมธอด แทรกเดือนที่ขาดหายไป\n",
    "1.2ให้เขียนคำสั่งโปรแกรมเรียกใช้เมธอด ลบชื่อเดือนตำแหน่งที่ 2,5,9 ออกจากลิสต์\n",
    "1.3ให้เขียนคำสั่งโปรแกรมเรียกใช้เมธอด แสดงชื่อเดือนที่เหลืออยู่ในลิสต์"
   ]
  },
  {
   "cell_type": "code",
   "execution_count": 2,
   "metadata": {},
   "outputs": [
    {
     "name": "stdout",
     "output_type": "stream",
     "text": [
      "1.1 แทรกเดือนที่ขาดหายไป = ['Jan', 'Feb', 'Mar', 'Apr', 'May', 'Jun', 'Jul', 'Aug', 'Sep', 'Oct', 'Nov', 'Dec']\n",
      "1.2 ลบชื่อเดือนี่ตกหายไป 2,5,9 ออกจากลิสต์ = ['Jan', 'Mar', 'Apr', 'Jun', 'Jul', 'Aug', 'Oct', 'Nov', 'Dec']\n",
      "1.3 แสดงชื่อเดือนที่เหลืออยู่ในลิสต์ = ['Jan', 'Mar', 'Apr', 'Jun', 'Jul', 'Aug', 'Oct', 'Nov', 'Dec']\n"
     ]
    }
   ],
   "source": [
    "month=[\"Jan\",\"May\",\"Jul\",\"Aug\",\"Oct\",\"Dec\"]\n",
    "month.insert(1,\"Feb\")\n",
    "month.insert(2,\"Mar\")\n",
    "month.insert(3,\"Apr\")\n",
    "month.insert(5,\"Jun\")\n",
    "month.insert(8,\"Sep\")\n",
    "month.insert(10,\"Nov\")\n",
    "print(\"1.1 แทรกเดือนที่ขาดหายไป =\",month)\n",
    "month.remove(\"Feb\")\n",
    "month.remove(\"May\")\n",
    "month.remove(\"Sep\")\n",
    "print(\"1.2 ลบชื่อเดือนี่ตกหายไป 2,5,9 ออกจากลิสต์ =\",month)\n",
    "print(\"1.3 แสดงชื่อเดือนที่เหลืออยู่ในลิสต์ =\",month)"
   ]
  },
  {
   "cell_type": "markdown",
   "metadata": {},
   "source": [
    "2.กำหนดให้ days = [\"Sun\",\"Mon\",\"Tuel\",\"Wed\",\"Thu\",\"Fri\",\"Sat\"]\n",
    "2.1ให้เขียนคำสั่งโปรแกรมเรียกใช้เมธอด เรียงชื่อวันจากท้ายสุด\n",
    "2.2ให้เขียนคำสั่งโปรแกรมเรียกใช้เมธอด เรียงลำดับชื่อวันตามตัวอักษร\n",
    "2.3ให้เขียนคำสั่งโปรแกรมแสดงชื่อวันในตำแหน่งที่ 3,5 และ 7"
   ]
  },
  {
   "cell_type": "code",
   "execution_count": 4,
   "metadata": {},
   "outputs": [
    {
     "name": "stdout",
     "output_type": "stream",
     "text": [
      "2.1 เรียงชื่อวันจากท้ายสุด = ['Sat', 'Fri', 'Thu', 'Wed', 'Tue', 'Mon', 'Sun']\n",
      "2.2 เรียงลำดับชื่อวันตามตัวอักษร = ['Fri', 'Mon', 'Sat', 'Sun', 'Thu', 'Tue', 'Wed']\n",
      "2.3 แสดงชื่อวันในตำแหน่งที่ 3,5 และ 7 = ['Sat', 'Thu', 'Wed']\n"
     ]
    }
   ],
   "source": [
    "days = [\"Sun\",\"Mon\",\"Tue\",\"Wed\",\"Thu\",\"Fri\",\"Sat\"]\n",
    "days.reverse()\n",
    "print(\"2.1 เรียงชื่อวันจากท้ายสุด =\",days)\n",
    "days.sort()\n",
    "print(\"2.2 เรียงลำดับชื่อวันตามตัวอักษร =\",days)\n",
    "print(\"2.3 แสดงชื่อวันในตำแหน่งที่ 3,5 และ 7 =\",days[2:7:2])"
   ]
  },
  {
   "cell_type": "code",
   "execution_count": null,
   "metadata": {},
   "outputs": [],
   "source": []
  },
  {
   "cell_type": "code",
   "execution_count": null,
   "metadata": {},
   "outputs": [],
   "source": []
  }
 ],
 "metadata": {
  "kernelspec": {
   "display_name": "Python 3",
   "language": "python",
   "name": "python3"
  },
  "language_info": {
   "codemirror_mode": {
    "name": "ipython",
    "version": 3
   },
   "file_extension": ".py",
   "mimetype": "text/x-python",
   "name": "python",
   "nbconvert_exporter": "python",
   "pygments_lexer": "ipython3",
   "version": "3.7.3"
  }
 },
 "nbformat": 4,
 "nbformat_minor": 2
}
